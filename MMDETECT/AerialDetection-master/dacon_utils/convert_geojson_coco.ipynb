{
 "cells": [
  {
   "cell_type": "markdown",
   "metadata": {},
   "source": [
    "# geojson2coco 모듈을 활용한 coco dataset 포맷 변환\n",
    "\n",
    "이번 노트북에서는 geojson2coco.py 모듈을 활용하여 DOTA dataset 형태의 geojson 파일을 coco 데이터셋 형태로 변환하는법에 대해 알아봅니다."
   ]
  },
  {
   "cell_type": "markdown",
   "metadata": {},
   "source": [
    "이 노트북은 베이스라인으로 제공되는 [ArerialDetection](https://github.com/dacon-ai/AerialDetection) dacon_utils 폴더의 [geojson2coco.py](https://github.com/dacon-ai/AerialDetection/blob/master/dacon_utils/geojson2coco.py) 모듈을 설명하는 코드입니다. "
   ]
  },
  {
   "cell_type": "markdown",
   "metadata": {},
   "source": [
    "## 수정\n",
    "200925 18:30 background CLASSES가 json 파일에 포함되지 않게 변경하였습니다."
   ]
  },
  {
   "cell_type": "markdown",
   "metadata": {},
   "source": [
    "## 라이브러리 임포트\n",
    "필요한 라이브러리를 임포트해줍니다."
   ]
  },
  {
   "cell_type": "code",
   "execution_count": 1,
   "metadata": {},
   "outputs": [],
   "source": [
    "import os\n",
    "import json\n",
    "from typing import List\n",
    "import math\n",
    "from glob import glob\n",
    "\n",
    "from tqdm import tqdm\n",
    "import cv2\n",
    "import numpy as np\n",
    "from PIL import Image"
   ]
  },
  {
   "cell_type": "markdown",
   "metadata": {},
   "source": [
    "## 메타 데이터 정의\n",
    "클래스 정보에 대한 메타 데이터를 정의합니다."
   ]
  },
  {
   "cell_type": "code",
   "execution_count": 2,
   "metadata": {},
   "outputs": [],
   "source": [
    "NIA_CLASSES = ['background', '소형 선박', '대형 선박', '민간 항공기', '군용 항공기', '소형 승용차', '버스', '트럭', '기차', '크레인', '다리', '정유탱크',\n",
    "               '댐', '운동경기장', '헬리패드', '원형 교차로']\n",
    "CLASS_NAMES_EN = ('background', 'small ship', 'large ship', 'civilian aircraft', 'military aircraft', 'small car', 'bus', 'truck', 'train',\n",
    "        'crane', 'bridge', 'oil tank', 'dam', 'athletic field', 'helipad', 'roundabout')"
   ]
  },
  {
   "cell_type": "markdown",
   "metadata": {},
   "source": [
    "xywha 좌표값을 각 꼭지점의 x,y 좌표값으로 변환하는 함수를 정의합니다."
   ]
  },
  {
   "cell_type": "code",
   "execution_count": 4,
   "metadata": {},
   "outputs": [],
   "source": [
    "def convert_xywha_to_8coords(xywha, is_clockwise=False):\n",
    "    x, y, w, h, a = xywha\n",
    "    angle = a if is_clockwise else -a\n",
    "\n",
    "    lt_x, lt_y = -w / 2, -h / 2\n",
    "    rt_x, rt_y = w / 2, - h/ 2\n",
    "    rb_x, rb_y = w / 2, h / 2\n",
    "    lb_x, lb_y = - w / 2, h / 2\n",
    "\n",
    "    lt_x_ = lt_x * math.cos(angle) - lt_y * math.sin(angle) + x\n",
    "    lt_y_ = lt_x * math.sin(angle) + lt_y * math.cos(angle) + y\n",
    "    rt_x_ = rt_x * math.cos(angle) - rt_y * math.sin(angle) + x\n",
    "    rt_y_ = rt_x * math.sin(angle) + rt_y * math.cos(angle) + y\n",
    "    lb_x_ = lb_x * math.cos(angle) - lb_y * math.sin(angle) + x\n",
    "    lb_y_ = lb_x * math.sin(angle) + lb_y * math.cos(angle) + y\n",
    "    rb_x_ = rb_x * math.cos(angle) - rb_y * math.sin(angle) + x\n",
    "    rb_y_ = rb_x * math.sin(angle) + rb_y * math.cos(angle) + y\n",
    "\n",
    "    return [lt_x_, lt_y_, rt_x_, rt_y_, rb_x_, rb_y_, lb_x_, lb_y_]\n"
   ]
  },
  {
   "cell_type": "markdown",
   "metadata": {},
   "source": [
    "각 꼭지점의 x,y 좌표를 coco 데이터셋 형식으로 변환하는 함수를 정의합니다."
   ]
  },
  {
   "cell_type": "code",
   "execution_count": 5,
   "metadata": {},
   "outputs": [],
   "source": [
    "def convert_8coords_to_4coords(coords):\n",
    "    x_coords = coords[0::2]\n",
    "    y_coords = coords[1::2]\n",
    "    \n",
    "    xmin = min(x_coords)\n",
    "    ymin = min(y_coords)\n",
    "\n",
    "    xmax = max(x_coords)\n",
    "    ymax = max(y_coords)\n",
    "\n",
    "    w = xmax-xmin\n",
    "    h = ymax-ymin\n",
    "\n",
    "    return [xmin, ymin, w, h]"
   ]
  },
  {
   "cell_type": "markdown",
   "metadata": {},
   "source": [
    "json 파일에서 필요한 정보를 불러오는 함수를 정의합니다."
   ]
  },
  {
   "cell_type": "code",
   "execution_count": 6,
   "metadata": {},
   "outputs": [],
   "source": [
    "def convert_labels_to_objects(coords, class_ids, class_names, image_ids, difficult=0, is_clockwise=False):\n",
    "    objs = list()\n",
    "    inst_count = 1\n",
    "\n",
    "    for polygons, cls_id, cls_name, img_id in tqdm(zip(coords, class_ids, class_names, image_ids), desc=\"converting labels to objects\"):\n",
    "        xmin, ymin, w, h = convert_8coords_to_4coords(polygons)\n",
    "        single_obj = {}\n",
    "        single_obj['difficult'] = difficult\n",
    "        single_obj['area'] = w*h\n",
    "        if cls_name in CLASS_NAMES_EN:\n",
    "            single_obj['category_id'] = CLASS_NAMES_EN.index(cls_name)\n",
    "        else:\n",
    "            continue\n",
    "        single_obj['segmentation'] = [[int(p) for p in polygons]]\n",
    "        single_obj['iscrowd'] = 0\n",
    "        single_obj['bbox'] = (xmin, ymin, w, h)\n",
    "        single_obj['image_id'] = img_id\n",
    "        single_obj['id'] = inst_count\n",
    "        inst_count += 1\n",
    "        objs.append(single_obj)\n",
    "\n",
    "    print('objects', len(objs))\n",
    "    return objs"
   ]
  },
  {
   "cell_type": "markdown",
   "metadata": {},
   "source": [
    "geojson 파일들을 불러오는 함수를 정의합니다."
   ]
  },
  {
   "cell_type": "code",
   "execution_count": 7,
   "metadata": {},
   "outputs": [],
   "source": [
    "def load_geojsons(filepath):\n",
    "    \"\"\" Gets label data from a geojson label file\n",
    "\n",
    "    :param (str) filename: file path to a geojson label file\n",
    "    :return: (numpy.ndarray, numpy.ndarray ,numpy.ndarray) coords, chips, and classes corresponding to\n",
    "            the coordinates, image names, and class codes for each ground truth.\n",
    "    \"\"\"\n",
    "    jsons = glob(os.path.join(filepath, '*.json'))\n",
    "    features = []\n",
    "    for json_path in tqdm(jsons, desc='loading geojson files'):\n",
    "        with open(json_path) as f:\n",
    "            data_dict = json.load(f)\n",
    "        features += data_dict['features']\n",
    "\n",
    "    obj_coords = list()\n",
    "    image_ids = list()\n",
    "    class_indices = list()\n",
    "    class_names = list()\n",
    "\n",
    "    for feature in tqdm(features, desc='extracting features'):\n",
    "        properties = feature['properties']\n",
    "        image_ids.append(properties['image_id'].replace('PS4', 'PS3')[:-4]+'.png')\n",
    "        obj_coords.append([float(num) for num in properties['object_imcoords'].split(\",\")])\n",
    "        class_indices.append(properties['type_id'])\n",
    "        class_names.append(properties['type_name'])\n",
    "\n",
    "    return image_ids, obj_coords, class_indices, class_names"
   ]
  },
  {
   "cell_type": "code",
   "execution_count": 28,
   "metadata": {},
   "outputs": [
    {
     "data": {
      "text/plain": [
       "{'images': [],\n",
       " 'categories': [{'id': 1, 'name': 'small ship', 'supercategory': 'small ship'},\n",
       "  {'id': 2, 'name': 'large ship', 'supercategory': 'large ship'},\n",
       "  {'id': 3, 'name': 'civilian aircraft', 'supercategory': 'civilian aircraft'},\n",
       "  {'id': 4, 'name': 'military aircraft', 'supercategory': 'military aircraft'},\n",
       "  {'id': 5, 'name': 'small car', 'supercategory': 'small car'},\n",
       "  {'id': 6, 'name': 'bus', 'supercategory': 'bus'},\n",
       "  {'id': 7, 'name': 'truck', 'supercategory': 'truck'},\n",
       "  {'id': 8, 'name': 'train', 'supercategory': 'train'},\n",
       "  {'id': 9, 'name': 'crane', 'supercategory': 'crane'},\n",
       "  {'id': 10, 'name': 'bridge', 'supercategory': 'bridge'},\n",
       "  {'id': 11, 'name': 'oil tank', 'supercategory': 'oil tank'},\n",
       "  {'id': 12, 'name': 'dam', 'supercategory': 'dam'},\n",
       "  {'id': 13, 'name': 'athletic field', 'supercategory': 'athletic field'},\n",
       "  {'id': 14, 'name': 'helipad', 'supercategory': 'helipad'},\n",
       "  {'id': 15, 'name': 'roundabout', 'supercategory': 'roundabout'},\n",
       "  {'id': 16, 'name': 'etc', 'supercategory': 'etc'}],\n",
       " 'annotations': []}"
      ]
     },
     "execution_count": 28,
     "metadata": {},
     "output_type": "execute_result"
    }
   ],
   "source": [
    "data_dict"
   ]
  },
  {
   "cell_type": "code",
   "execution_count": 8,
   "metadata": {},
   "outputs": [],
   "source": [
    "def geojson2coco(imageroot: str, geojsonpath: str, destfile, difficult='-1'):\n",
    "    # set difficult to filter '2', '1', or do not filter, set '-1'\n",
    "\n",
    "    data_dict = {}\n",
    "    data_dict['images'] = []\n",
    "    data_dict['categories'] = []\n",
    "    data_dict['annotations'] = []\n",
    "    for idex, name in enumerate(CLASS_NAMES_EN):\n",
    "        single_cat = {'id': idex + 1, 'name': name, 'supercategory': name}\n",
    "        data_dict['categories'].append(single_cat)\n",
    "\n",
    "    inst_count = 1\n",
    "    image_id = 1\n",
    "    with open(destfile, 'w') as f_out:\n",
    "        img_files, obj_coords, cls_ids, class_names = load_geojsons(geojsonpath)\n",
    "        img_id_map= {img_file:i+1 for i, img_file in enumerate(list(set(img_files)))}\n",
    "        image_ids = [img_id_map[img_file] for img_file in img_files]\n",
    "        objs = convert_labels_to_objects(obj_coords, cls_ids, class_names, image_ids, difficult=difficult, is_clockwise=False)\n",
    "        data_dict['annotations'].extend(objs)\n",
    "\n",
    "        for imgfile in tqdm(img_id_map, desc='saving img info'):\n",
    "            imagepath = os.path.join(imageroot, imgfile)\n",
    "            img_id = img_id_map[imgfile]\n",
    "            img = cv2.imread(imagepath)\n",
    "            height, width, c = img.shape\n",
    "            single_image = {}\n",
    "            single_image['file_name'] = imgfile\n",
    "            single_image['id'] = img_id\n",
    "            single_image['width'] = width\n",
    "            single_image['height'] = height\n",
    "            data_dict['images'].append(single_image)\n",
    "\n",
    "        json.dump(data_dict, f_out)\n"
   ]
  },
  {
   "cell_type": "markdown",
   "metadata": {},
   "source": [
    "정의된 함수를 본인의 경로에 맞게 수정합니다."
   ]
  },
  {
   "cell_type": "code",
   "execution_count": null,
   "metadata": {},
   "outputs": [],
   "source": [
    "rootfolder = '/path/to/root/dir'\n",
    "\n",
    "geojson2coco(imageroot=os.path.join(rootfolder, 'train/images'),\n",
    "                 geojsonpath=os.path.join(rootfolder, 'train/json'),\n",
    "                 destfile=os.path.join(rootfolder, 'train/traincoco.json'))\n",
    "    \n",
    "geojson2coco(imageroot=os.path.join(rootfolder, 'val/images'),\n",
    "                 geojsonpath=os.path.join(rootfolder, 'val/json'),\n",
    "                 destfile=os.path.join(rootfolder, 'val/valcoco.json'))    "
   ]
  }
 ],
 "metadata": {
  "kernelspec": {
   "display_name": "SIA",
   "language": "python",
   "name": "sia"
  },
  "language_info": {
   "codemirror_mode": {
    "name": "ipython",
    "version": 3
   },
   "file_extension": ".py",
   "mimetype": "text/x-python",
   "name": "python",
   "nbconvert_exporter": "python",
   "pygments_lexer": "ipython3",
   "version": "3.7.9"
  }
 },
 "nbformat": 4,
 "nbformat_minor": 4
}
